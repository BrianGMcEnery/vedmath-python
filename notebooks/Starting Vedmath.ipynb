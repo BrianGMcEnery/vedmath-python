{
 "cells": [
  {
   "cell_type": "code",
   "execution_count": 1,
   "metadata": {},
   "outputs": [],
   "source": [
    "from vedmath import *"
   ]
  },
  {
   "cell_type": "code",
   "execution_count": 10,
   "metadata": {},
   "outputs": [
    {
     "name": "stdout",
     "output_type": "stream",
     "text": [
      "\n",
      "(0, 0) (0, 0) \n",
      "(1, 0) (0, 1) (1, 1) (1, 1) \n",
      "(2, 0) (0, 2) (2, 1) (1, 2) (2, 2) (2, 2) \n",
      "(3, 0) (0, 3) (3, 1) (1, 3) (3, 2) (2, 3) (3, 3) (3, 3) \n",
      "(4, 0) (0, 4) (4, 1) (1, 4) (4, 2) (2, 4) (4, 3) (3, 4) (4, 4) (4, 4) "
     ]
    }
   ],
   "source": [
    "for i in range(5):\n",
    "    print()\n",
    "    for j in range(i+1):\n",
    "        print(f'{i,j}', end=' ')\n",
    "        print(f'{j,i}', end=' ')\n",
    "        "
   ]
  },
  {
   "cell_type": "code",
   "execution_count": null,
   "metadata": {},
   "outputs": [],
   "source": []
  }
 ],
 "metadata": {
  "kernelspec": {
   "display_name": "Python 3",
   "language": "python",
   "name": "python3"
  },
  "language_info": {
   "codemirror_mode": {
    "name": "ipython",
    "version": 3
   },
   "file_extension": ".py",
   "mimetype": "text/x-python",
   "name": "python",
   "nbconvert_exporter": "python",
   "pygments_lexer": "ipython3",
   "version": "3.8.5"
  }
 },
 "nbformat": 4,
 "nbformat_minor": 4
}
