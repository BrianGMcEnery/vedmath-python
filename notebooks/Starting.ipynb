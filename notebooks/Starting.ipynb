{
 "cells": [
  {
   "cell_type": "code",
   "execution_count": 1,
   "id": "compact-momentum",
   "metadata": {},
   "outputs": [],
   "source": [
    "from vedmath import *"
   ]
  },
  {
   "cell_type": "code",
   "execution_count": 2,
   "id": "built-exhibit",
   "metadata": {},
   "outputs": [
    {
     "data": {
      "text/plain": [
       "{'quotient': [[9], [6]], 'remainder': [9]}"
      ]
     },
     "execution_count": 2,
     "metadata": {},
     "output_type": "execute_result"
    }
   ],
   "source": [
    "VDiv.nikhilam_by_9_three_digit(VInteger(873))"
   ]
  },
  {
   "cell_type": "code",
   "execution_count": 3,
   "id": "attempted-reason",
   "metadata": {},
   "outputs": [
    {
     "data": {
      "text/plain": [
       "{'quotient': [8], 'remainder': [0]}"
      ]
     },
     "execution_count": 3,
     "metadata": {},
     "output_type": "execute_result"
    }
   ],
   "source": [
    "VDiv.nikhilam_by_9_two_digit(VInteger(72))"
   ]
  },
  {
   "cell_type": "code",
   "execution_count": null,
   "id": "single-calvin",
   "metadata": {},
   "outputs": [],
   "source": []
  }
 ],
 "metadata": {
  "kernelspec": {
   "display_name": "Python 3",
   "language": "python",
   "name": "python3"
  },
  "language_info": {
   "codemirror_mode": {
    "name": "ipython",
    "version": 3
   },
   "file_extension": ".py",
   "mimetype": "text/x-python",
   "name": "python",
   "nbconvert_exporter": "python",
   "pygments_lexer": "ipython3",
   "version": "3.8.5"
  }
 },
 "nbformat": 4,
 "nbformat_minor": 5
}
