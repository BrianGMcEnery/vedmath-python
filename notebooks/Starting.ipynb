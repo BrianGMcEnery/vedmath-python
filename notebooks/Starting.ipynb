{
 "cells": [
  {
   "cell_type": "code",
   "execution_count": 1,
   "id": "cellular-writer",
   "metadata": {},
   "outputs": [],
   "source": [
    "from vedmath import *"
   ]
  },
  {
   "cell_type": "code",
   "execution_count": 2,
   "id": "related-episode",
   "metadata": {},
   "outputs": [
    {
     "data": {
      "text/plain": [
       "[-2, -7]"
      ]
     },
     "execution_count": 2,
     "metadata": {},
     "output_type": "execute_result"
    }
   ],
   "source": [
    "VProp.deficit(VInteger(-73))"
   ]
  },
  {
   "cell_type": "code",
   "execution_count": 3,
   "id": "functioning-hundred",
   "metadata": {},
   "outputs": [
    {
     "data": {
      "text/plain": [
       "[-1, 0, 0]"
      ]
     },
     "execution_count": 3,
     "metadata": {},
     "output_type": "execute_result"
    }
   ],
   "source": [
    "VProp.next_lowest_whole(VInteger(-113))"
   ]
  },
  {
   "cell_type": "code",
   "execution_count": 8,
   "id": "federal-nature",
   "metadata": {},
   "outputs": [
    {
     "data": {
      "text/plain": [
       "[0]"
      ]
     },
     "execution_count": 8,
     "metadata": {},
     "output_type": "execute_result"
    }
   ],
   "source": [
    "VProp.excess(VInteger(100))"
   ]
  },
  {
   "cell_type": "code",
   "execution_count": null,
   "id": "earlier-illustration",
   "metadata": {},
   "outputs": [],
   "source": [
    "-"
   ]
  }
 ],
 "metadata": {
  "kernelspec": {
   "display_name": "Python 3",
   "language": "python",
   "name": "python3"
  },
  "language_info": {
   "codemirror_mode": {
    "name": "ipython",
    "version": 3
   },
   "file_extension": ".py",
   "mimetype": "text/x-python",
   "name": "python",
   "nbconvert_exporter": "python",
   "pygments_lexer": "ipython3",
   "version": "3.8.5"
  }
 },
 "nbformat": 4,
 "nbformat_minor": 5
}
