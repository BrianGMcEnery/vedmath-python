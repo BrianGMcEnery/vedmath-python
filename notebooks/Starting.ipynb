{
 "cells": [
  {
   "cell_type": "code",
   "execution_count": 1,
   "id": "graduate-carry",
   "metadata": {},
   "outputs": [],
   "source": [
    "from vedmath import *"
   ]
  },
  {
   "cell_type": "code",
   "execution_count": 2,
   "id": "automotive-initial",
   "metadata": {},
   "outputs": [
    {
     "data": {
      "text/plain": [
       "[7, 0, 0, 6, 6, 5, 2]"
      ]
     },
     "execution_count": 2,
     "metadata": {},
     "output_type": "execute_result"
    }
   ],
   "source": [
    "v1 = VInteger(1234)\n",
    "v2 = VInteger(5678)\n",
    "v1 * v2"
   ]
  },
  {
   "cell_type": "code",
   "execution_count": 3,
   "id": "affiliated-compact",
   "metadata": {},
   "outputs": [
    {
     "data": {
      "text/plain": [
       "7006652"
      ]
     },
     "execution_count": 3,
     "metadata": {},
     "output_type": "execute_result"
    }
   ],
   "source": [
    "1234 * 5678"
   ]
  },
  {
   "cell_type": "code",
   "execution_count": 4,
   "id": "simplified-spank",
   "metadata": {},
   "outputs": [
    {
     "data": {
      "text/plain": [
       "[7, 0, 1, 0, 1, 8, 7, 4, 4, 3, 5, 3, 5, 6, 5]"
      ]
     },
     "execution_count": 4,
     "metadata": {},
     "output_type": "execute_result"
    }
   ],
   "source": [
    "v1 = VInteger(12344321)\n",
    "v2 = VInteger(56788765)\n",
    "v1 * v2"
   ]
  },
  {
   "cell_type": "code",
   "execution_count": 5,
   "id": "molecular-gazette",
   "metadata": {},
   "outputs": [
    {
     "data": {
      "text/plain": [
       "701018744353565"
      ]
     },
     "execution_count": 5,
     "metadata": {},
     "output_type": "execute_result"
    }
   ],
   "source": [
    "12344321 * 56788765"
   ]
  },
  {
   "cell_type": "code",
   "execution_count": 15,
   "id": "registered-lunch",
   "metadata": {},
   "outputs": [
    {
     "data": {
      "text/plain": [
       "[9, 9, 9, 9, 9, 9, 9, 9, 9, 9, 9, 0, 3, 0, 0, 0, 0, 0, 0, 0, 0, 0, 0, 0, 0, 1]"
      ]
     },
     "execution_count": 15,
     "metadata": {},
     "output_type": "execute_result"
    }
   ],
   "source": [
    "v1 = VInteger(9999999999999)\n",
    "v2 = VInteger(9999999999999)\n",
    "v1 * v2"
   ]
  },
  {
   "cell_type": "code",
   "execution_count": 16,
   "id": "cultural-stone",
   "metadata": {},
   "outputs": [
    {
     "data": {
      "text/plain": [
       "99999999999980000000000001"
      ]
     },
     "execution_count": 16,
     "metadata": {},
     "output_type": "execute_result"
    }
   ],
   "source": [
    "9999999999999 * 9999999999999"
   ]
  },
  {
   "cell_type": "code",
   "execution_count": null,
   "id": "grateful-enforcement",
   "metadata": {},
   "outputs": [],
   "source": []
  }
 ],
 "metadata": {
  "kernelspec": {
   "display_name": "Python 3",
   "language": "python",
   "name": "python3"
  },
  "language_info": {
   "codemirror_mode": {
    "name": "ipython",
    "version": 3
   },
   "file_extension": ".py",
   "mimetype": "text/x-python",
   "name": "python",
   "nbconvert_exporter": "python",
   "pygments_lexer": "ipython3",
   "version": "3.8.5"
  }
 },
 "nbformat": 4,
 "nbformat_minor": 5
}
