{
 "cells": [
  {
   "cell_type": "code",
   "execution_count": 1,
   "id": "boolean-component",
   "metadata": {},
   "outputs": [],
   "source": [
    "from vedmath import *"
   ]
  },
  {
   "cell_type": "code",
   "execution_count": 2,
   "id": "available-majority",
   "metadata": {},
   "outputs": [
    {
     "data": {
      "text/plain": [
       "[7, 0, 0, 6, 6, 5, 2]"
      ]
     },
     "execution_count": 2,
     "metadata": {},
     "output_type": "execute_result"
    }
   ],
   "source": [
    "v1 = VInteger(1234)\n",
    "v2 = VInteger(5678)\n",
    "v1 * v2"
   ]
  },
  {
   "cell_type": "code",
   "execution_count": 3,
   "id": "architectural-gibraltar",
   "metadata": {},
   "outputs": [
    {
     "data": {
      "text/plain": [
       "7006652"
      ]
     },
     "execution_count": 3,
     "metadata": {},
     "output_type": "execute_result"
    }
   ],
   "source": [
    "1234 * 5678"
   ]
  },
  {
   "cell_type": "code",
   "execution_count": 4,
   "id": "effective-language",
   "metadata": {},
   "outputs": [
    {
     "data": {
      "text/plain": [
       "[7, 0, 1, 0, 1, 8, 7, 4, 4, 3, 5, 3, 5, 6, 5]"
      ]
     },
     "execution_count": 4,
     "metadata": {},
     "output_type": "execute_result"
    }
   ],
   "source": [
    "v1 = VInteger(12344321)\n",
    "v2 = VInteger(56788765)\n",
    "v1 * v2"
   ]
  },
  {
   "cell_type": "code",
   "execution_count": 5,
   "id": "necessary-hunger",
   "metadata": {},
   "outputs": [
    {
     "data": {
      "text/plain": [
       "701018744353565"
      ]
     },
     "execution_count": 5,
     "metadata": {},
     "output_type": "execute_result"
    }
   ],
   "source": [
    "12344321 * 56788765"
   ]
  },
  {
   "cell_type": "code",
   "execution_count": null,
   "id": "noble-austin",
   "metadata": {},
   "outputs": [],
   "source": []
  }
 ],
 "metadata": {
  "kernelspec": {
   "display_name": "Python 3",
   "language": "python",
   "name": "python3"
  },
  "language_info": {
   "codemirror_mode": {
    "name": "ipython",
    "version": 3
   },
   "file_extension": ".py",
   "mimetype": "text/x-python",
   "name": "python",
   "nbconvert_exporter": "python",
   "pygments_lexer": "ipython3",
   "version": "3.8.5"
  }
 },
 "nbformat": 4,
 "nbformat_minor": 5
}
