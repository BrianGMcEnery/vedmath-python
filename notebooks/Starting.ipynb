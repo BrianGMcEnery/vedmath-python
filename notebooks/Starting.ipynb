{
 "cells": [
  {
   "cell_type": "code",
   "execution_count": 1,
   "id": "compressed-frame",
   "metadata": {},
   "outputs": [],
   "source": [
    "from vedmath import *"
   ]
  },
  {
   "cell_type": "code",
   "execution_count": 2,
   "id": "structural-psychiatry",
   "metadata": {},
   "outputs": [
    {
     "data": {
      "text/plain": [
       "{'quotient': [1, 0, 0], 'remainder': [1]}"
      ]
     },
     "execution_count": 2,
     "metadata": {},
     "output_type": "execute_result"
    }
   ],
   "source": [
    "VDiv.nikhilam_by_9_three_digit(VInteger(901))"
   ]
  },
  {
   "cell_type": "code",
   "execution_count": 3,
   "id": "eleven-supply",
   "metadata": {},
   "outputs": [
    {
     "data": {
      "text/plain": [
       "{'quotient': [1, 4], 'remainder': [2]}"
      ]
     },
     "execution_count": 3,
     "metadata": {},
     "output_type": "execute_result"
    }
   ],
   "source": [
    "VDiv.nikhilam_by_7_many_digit(VInteger(100))"
   ]
  },
  {
   "cell_type": "code",
   "execution_count": 13,
   "id": "altered-confusion",
   "metadata": {},
   "outputs": [
    {
     "data": {
      "text/plain": [
       "{'quotient': [6], 'remainder': [9]}"
      ]
     },
     "execution_count": 13,
     "metadata": {},
     "output_type": "execute_result"
    }
   ],
   "source": [
    "VDiv.straight_division_one_flag_digit(VInteger(567), VInteger(93))"
   ]
  },
  {
   "cell_type": "code",
   "execution_count": null,
   "id": "behavioral-astrology",
   "metadata": {},
   "outputs": [],
   "source": []
  }
 ],
 "metadata": {
  "kernelspec": {
   "display_name": "Python 3",
   "language": "python",
   "name": "python3"
  },
  "language_info": {
   "codemirror_mode": {
    "name": "ipython",
    "version": 3
   },
   "file_extension": ".py",
   "mimetype": "text/x-python",
   "name": "python",
   "nbconvert_exporter": "python",
   "pygments_lexer": "ipython3",
   "version": "3.8.5"
  }
 },
 "nbformat": 4,
 "nbformat_minor": 5
}
