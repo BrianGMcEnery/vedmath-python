{
 "cells": [
  {
   "cell_type": "code",
   "execution_count": 1,
   "id": "cutting-frame",
   "metadata": {},
   "outputs": [],
   "source": [
    "from vedmath import *"
   ]
  },
  {
   "cell_type": "code",
   "execution_count": 2,
   "id": "reserved-quilt",
   "metadata": {},
   "outputs": [
    {
     "data": {
      "text/plain": [
       "[8, 8, 0, 0, 0, 8]"
      ]
     },
     "execution_count": 2,
     "metadata": {},
     "output_type": "execute_result"
    }
   ],
   "source": [
    "v1 = VInteger(888)\n",
    "v2 = VInteger(991)\n",
    "VMul.near_base(v1, v2, base=VInteger(1000))"
   ]
  },
  {
   "cell_type": "code",
   "execution_count": 3,
   "id": "french-stylus",
   "metadata": {},
   "outputs": [
    {
     "data": {
      "text/plain": [
       "[1, 1, 1, 7, 7, 6]"
      ]
     },
     "execution_count": 3,
     "metadata": {},
     "output_type": "execute_result"
    }
   ],
   "source": [
    "v1 = VInteger(112)\n",
    "v2 = VInteger(998)\n",
    "VMul.near_base(v1, v2, base=VInteger(1000))"
   ]
  },
  {
   "cell_type": "code",
   "execution_count": 4,
   "id": "supposed-scratch",
   "metadata": {},
   "outputs": [
    {
     "data": {
      "text/plain": [
       "[9, 8, 6, 0, 2, 4]"
      ]
     },
     "execution_count": 4,
     "metadata": {},
     "output_type": "execute_result"
    }
   ],
   "source": [
    "v1 = VInteger(988)\n",
    "v2 = VInteger(998)\n",
    "VMul.near_base(v1, v2, base=VInteger(1000))"
   ]
  },
  {
   "cell_type": "code",
   "execution_count": 5,
   "id": "multiple-triangle",
   "metadata": {},
   "outputs": [
    {
     "data": {
      "text/plain": [
       "[9, 9, 9, 4, 0, 0, 0, 9]"
      ]
     },
     "execution_count": 5,
     "metadata": {},
     "output_type": "execute_result"
    }
   ],
   "source": [
    "v1 = VInteger(9997)\n",
    "v2 = VInteger(9997)\n",
    "VMul.near_base(v1, v2, base=VInteger(10000))"
   ]
  },
  {
   "cell_type": "code",
   "execution_count": null,
   "id": "impossible-embassy",
   "metadata": {},
   "outputs": [],
   "source": []
  }
 ],
 "metadata": {
  "kernelspec": {
   "display_name": "Python 3",
   "language": "python",
   "name": "python3"
  },
  "language_info": {
   "codemirror_mode": {
    "name": "ipython",
    "version": 3
   },
   "file_extension": ".py",
   "mimetype": "text/x-python",
   "name": "python",
   "nbconvert_exporter": "python",
   "pygments_lexer": "ipython3",
   "version": "3.8.5"
  }
 },
 "nbformat": 4,
 "nbformat_minor": 5
}
