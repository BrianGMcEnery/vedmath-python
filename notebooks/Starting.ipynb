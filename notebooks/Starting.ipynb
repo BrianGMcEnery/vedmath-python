{
 "cells": [
  {
   "cell_type": "code",
   "execution_count": 1,
   "id": "south-stanford",
   "metadata": {},
   "outputs": [],
   "source": [
    "from vedmath import *"
   ]
  },
  {
   "cell_type": "code",
   "execution_count": 6,
   "id": "amateur-paste",
   "metadata": {},
   "outputs": [
    {
     "name": "stdout",
     "output_type": "stream",
     "text": [
      "VInteger([8, 5]) VInteger([6])\n",
      "VInteger([8, [1, 3]]) VInteger([6])\n",
      "VInteger([[9], [4]]) VInteger([1, 0])\n",
      "VInteger([[9], [5]]) VInteger([1])\n",
      "VInteger([[9], [5]]) VInteger([1])\n"
     ]
    },
    {
     "data": {
      "text/plain": [
       "{'quotient': [9, 5], 'remainder': [1]}"
      ]
     },
     "execution_count": 6,
     "metadata": {},
     "output_type": "execute_result"
    }
   ],
   "source": [
    "VDiv.nikhilam_by_9_three_digit(VInteger(856))"
   ]
  },
  {
   "cell_type": "code",
   "execution_count": 8,
   "id": "compliant-convention",
   "metadata": {},
   "outputs": [
    {
     "data": {
      "text/plain": [
       "856"
      ]
     },
     "execution_count": 8,
     "metadata": {},
     "output_type": "execute_result"
    }
   ],
   "source": [
    "95 * 9 + 1"
   ]
  },
  {
   "cell_type": "code",
   "execution_count": null,
   "id": "ceramic-missouri",
   "metadata": {},
   "outputs": [],
   "source": []
  }
 ],
 "metadata": {
  "kernelspec": {
   "display_name": "Python 3",
   "language": "python",
   "name": "python3"
  },
  "language_info": {
   "codemirror_mode": {
    "name": "ipython",
    "version": 3
   },
   "file_extension": ".py",
   "mimetype": "text/x-python",
   "name": "python",
   "nbconvert_exporter": "python",
   "pygments_lexer": "ipython3",
   "version": "3.8.5"
  }
 },
 "nbformat": 4,
 "nbformat_minor": 5
}
