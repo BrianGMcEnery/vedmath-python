{
 "cells": [
  {
   "cell_type": "code",
   "execution_count": 1,
   "id": "black-career",
   "metadata": {},
   "outputs": [],
   "source": [
    "from vedmath import *\n",
    "import math"
   ]
  },
  {
   "cell_type": "code",
   "execution_count": 2,
   "id": "narrative-still",
   "metadata": {},
   "outputs": [
    {
     "data": {
      "text/plain": [
       "VMonomial([[5], [2], [3]])"
      ]
     },
     "execution_count": 2,
     "metadata": {},
     "output_type": "execute_result"
    }
   ],
   "source": [
    "m = VMonomial([VInteger(5), VInteger(2), VInteger(3)])\n",
    "m"
   ]
  },
  {
   "cell_type": "code",
   "execution_count": 3,
   "id": "upset-donna",
   "metadata": {},
   "outputs": [
    {
     "data": {
      "text/plain": [
       "[3, 4]"
      ]
     },
     "execution_count": 3,
     "metadata": {},
     "output_type": "execute_result"
    }
   ],
   "source": [
    "m.duplex()"
   ]
  },
  {
   "cell_type": "code",
   "execution_count": 4,
   "id": "ignored-proxy",
   "metadata": {},
   "outputs": [
    {
     "data": {
      "text/plain": [
       "VMonomial([[2, 5], [2, 0], [3, 4], [1, 2], [9]])"
      ]
     },
     "execution_count": 4,
     "metadata": {},
     "output_type": "execute_result"
    }
   ],
   "source": [
    "m.square()"
   ]
  },
  {
   "cell_type": "code",
   "execution_count": 5,
   "id": "renewable-monte",
   "metadata": {},
   "outputs": [
    {
     "data": {
      "text/plain": [
       "VMonomial([[2, 5], [2, 0], [3, 4], [1, 2], [9]])"
      ]
     },
     "execution_count": 5,
     "metadata": {},
     "output_type": "execute_result"
    }
   ],
   "source": [
    "m.vert_cross_product(m)"
   ]
  },
  {
   "cell_type": "code",
   "execution_count": 6,
   "id": "special-perth",
   "metadata": {},
   "outputs": [
    {
     "data": {
      "text/plain": [
       "VMonomial([[2], [5], [3], [1]])"
      ]
     },
     "execution_count": 6,
     "metadata": {},
     "output_type": "execute_result"
    }
   ],
   "source": [
    "n = VMonomial([VInteger(2), VInteger(5), VInteger(3), VInteger(1)])\n",
    "n"
   ]
  },
  {
   "cell_type": "code",
   "execution_count": 7,
   "id": "parliamentary-repeat",
   "metadata": {},
   "outputs": [
    {
     "data": {
      "text/plain": [
       "VMonomial([[1, 0], [2, 9], [3, 1], [2, 6], [1, 1], [3]])"
      ]
     },
     "execution_count": 7,
     "metadata": {},
     "output_type": "execute_result"
    }
   ],
   "source": [
    "o = m.vert_cross_product(n)\n",
    "o"
   ]
  },
  {
   "cell_type": "code",
   "execution_count": 8,
   "id": "limiting-explosion",
   "metadata": {},
   "outputs": [
    {
     "data": {
      "text/plain": [
       "1849"
      ]
     },
     "execution_count": 8,
     "metadata": {},
     "output_type": "execute_result"
    }
   ],
   "source": [
    "43 * 43"
   ]
  },
  {
   "cell_type": "code",
   "execution_count": 9,
   "id": "forced-breathing",
   "metadata": {},
   "outputs": [
    {
     "data": {
      "text/plain": [
       "273529"
      ]
     },
     "execution_count": 9,
     "metadata": {},
     "output_type": "execute_result"
    }
   ],
   "source": [
    "523 * 523"
   ]
  },
  {
   "cell_type": "code",
   "execution_count": null,
   "id": "vital-lodging",
   "metadata": {},
   "outputs": [],
   "source": []
  }
 ],
 "metadata": {
  "kernelspec": {
   "display_name": "Python 3",
   "language": "python",
   "name": "python3"
  },
  "language_info": {
   "codemirror_mode": {
    "name": "ipython",
    "version": 3
   },
   "file_extension": ".py",
   "mimetype": "text/x-python",
   "name": "python",
   "nbconvert_exporter": "python",
   "pygments_lexer": "ipython3",
   "version": "3.8.5"
  }
 },
 "nbformat": 4,
 "nbformat_minor": 5
}
