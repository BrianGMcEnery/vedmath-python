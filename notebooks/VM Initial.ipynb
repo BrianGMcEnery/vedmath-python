{
 "cells": [
  {
   "cell_type": "code",
   "execution_count": 1,
   "id": "geological-dutch",
   "metadata": {},
   "outputs": [],
   "source": [
    "from vedmath import *"
   ]
  },
  {
   "cell_type": "code",
   "execution_count": 2,
   "id": "american-sympathy",
   "metadata": {},
   "outputs": [
    {
     "data": {
      "text/plain": [
       "6"
      ]
     },
     "execution_count": 2,
     "metadata": {},
     "output_type": "execute_result"
    }
   ],
   "source": [
    "VInteger(567489372).digit_sum()"
   ]
  },
  {
   "cell_type": "code",
   "execution_count": 5,
   "id": "satellite-latex",
   "metadata": {},
   "outputs": [
    {
     "data": {
      "text/plain": [
       "[1, 1, 5]"
      ]
     },
     "execution_count": 5,
     "metadata": {},
     "output_type": "execute_result"
    }
   ],
   "source": [
    "VInteger(34567).duplex()"
   ]
  },
  {
   "cell_type": "code",
   "execution_count": null,
   "id": "introductory-jackson",
   "metadata": {},
   "outputs": [],
   "source": []
  }
 ],
 "metadata": {
  "kernelspec": {
   "display_name": "Python 3",
   "language": "python",
   "name": "python3"
  },
  "language_info": {
   "codemirror_mode": {
    "name": "ipython",
    "version": 3
   },
   "file_extension": ".py",
   "mimetype": "text/x-python",
   "name": "python",
   "nbconvert_exporter": "python",
   "pygments_lexer": "ipython3",
   "version": "3.8.5"
  }
 },
 "nbformat": 4,
 "nbformat_minor": 5
}
