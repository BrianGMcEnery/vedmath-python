{
 "cells": [
  {
   "cell_type": "code",
   "execution_count": 1,
   "id": "certain-memphis",
   "metadata": {},
   "outputs": [],
   "source": [
    "from vedmath import *\n",
    "import math"
   ]
  },
  {
   "cell_type": "code",
   "execution_count": 2,
   "id": "coordinate-mouse",
   "metadata": {},
   "outputs": [
    {
     "data": {
      "text/plain": [
       "VMonomial([[3], [6], [4]])"
      ]
     },
     "execution_count": 2,
     "metadata": {},
     "output_type": "execute_result"
    }
   ],
   "source": [
    "m = VMonomial([VInteger(3), VInteger(6), VInteger(4)])\n",
    "m"
   ]
  },
  {
   "cell_type": "code",
   "execution_count": 3,
   "id": "international-title",
   "metadata": {},
   "outputs": [
    {
     "data": {
      "text/plain": [
       "[6, 0]"
      ]
     },
     "execution_count": 3,
     "metadata": {},
     "output_type": "execute_result"
    }
   ],
   "source": [
    "m.duplex()"
   ]
  },
  {
   "cell_type": "code",
   "execution_count": 4,
   "id": "irish-syracuse",
   "metadata": {},
   "outputs": [
    {
     "data": {
      "text/plain": [
       "VMonomial([[9], [3, 6], [6, 0], [4, 8], [1, 6]])"
      ]
     },
     "execution_count": 4,
     "metadata": {},
     "output_type": "execute_result"
    }
   ],
   "source": [
    "m.square()"
   ]
  },
  {
   "cell_type": "code",
   "execution_count": 5,
   "id": "contained-design",
   "metadata": {},
   "outputs": [
    {
     "data": {
      "text/plain": [
       "VMonomial([[9], [3, 6], [6, 0], [4, 8], [1, 6]])"
      ]
     },
     "execution_count": 5,
     "metadata": {},
     "output_type": "execute_result"
    }
   ],
   "source": [
    "m.vert_cross_product(m)"
   ]
  },
  {
   "cell_type": "code",
   "execution_count": 6,
   "id": "caroline-label",
   "metadata": {},
   "outputs": [
    {
     "data": {
      "text/plain": [
       "VMonomial([[2], [5], [3], [1]])"
      ]
     },
     "execution_count": 6,
     "metadata": {},
     "output_type": "execute_result"
    }
   ],
   "source": [
    "n = VMonomial([VInteger(2), VInteger(5), VInteger(3), VInteger(1)])\n",
    "n"
   ]
  },
  {
   "cell_type": "code",
   "execution_count": 7,
   "id": "israeli-anxiety",
   "metadata": {},
   "outputs": [
    {
     "data": {
      "text/plain": [
       "VMonomial([[6], [2, 7], [4, 7], [4, 1], [1, 8], [4]])"
      ]
     },
     "execution_count": 7,
     "metadata": {},
     "output_type": "execute_result"
    }
   ],
   "source": [
    "o = m.vert_cross_product(n)\n",
    "o"
   ]
  },
  {
   "cell_type": "code",
   "execution_count": 8,
   "id": "electric-while",
   "metadata": {},
   "outputs": [
    {
     "data": {
      "text/plain": [
       "1849"
      ]
     },
     "execution_count": 8,
     "metadata": {},
     "output_type": "execute_result"
    }
   ],
   "source": [
    "43 * 43"
   ]
  },
  {
   "cell_type": "code",
   "execution_count": 9,
   "id": "secure-adelaide",
   "metadata": {},
   "outputs": [
    {
     "data": {
      "text/plain": [
       "273529"
      ]
     },
     "execution_count": 9,
     "metadata": {},
     "output_type": "execute_result"
    }
   ],
   "source": [
    "523 * 523"
   ]
  },
  {
   "cell_type": "code",
   "execution_count": null,
   "id": "illegal-military",
   "metadata": {},
   "outputs": [],
   "source": []
  }
 ],
 "metadata": {
  "kernelspec": {
   "display_name": "Python 3",
   "language": "python",
   "name": "python3"
  },
  "language_info": {
   "codemirror_mode": {
    "name": "ipython",
    "version": 3
   },
   "file_extension": ".py",
   "mimetype": "text/x-python",
   "name": "python",
   "nbconvert_exporter": "python",
   "pygments_lexer": "ipython3",
   "version": "3.8.5"
  }
 },
 "nbformat": 4,
 "nbformat_minor": 5
}
