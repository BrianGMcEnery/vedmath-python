{
 "cells": [
  {
   "cell_type": "code",
   "execution_count": 1,
   "id": "postal-latitude",
   "metadata": {},
   "outputs": [],
   "source": [
    "from vedmath import *\n",
    "import math"
   ]
  },
  {
   "cell_type": "code",
   "execution_count": 2,
   "id": "automotive-birmingham",
   "metadata": {},
   "outputs": [
    {
     "data": {
      "text/plain": [
       "VMonomial([[2], [3], [4]])"
      ]
     },
     "execution_count": 2,
     "metadata": {},
     "output_type": "execute_result"
    }
   ],
   "source": [
    "VMonomial([VInteger(2), VInteger(3), VInteger(4)])"
   ]
  },
  {
   "cell_type": "code",
   "execution_count": null,
   "id": "instructional-dakota",
   "metadata": {},
   "outputs": [],
   "source": []
  }
 ],
 "metadata": {
  "kernelspec": {
   "display_name": "Python 3",
   "language": "python",
   "name": "python3"
  },
  "language_info": {
   "codemirror_mode": {
    "name": "ipython",
    "version": 3
   },
   "file_extension": ".py",
   "mimetype": "text/x-python",
   "name": "python",
   "nbconvert_exporter": "python",
   "pygments_lexer": "ipython3",
   "version": "3.8.5"
  }
 },
 "nbformat": 4,
 "nbformat_minor": 5
}
