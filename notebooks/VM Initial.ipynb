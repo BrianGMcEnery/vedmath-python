{
 "cells": [
  {
   "cell_type": "code",
   "execution_count": 1,
   "id": "following-dressing",
   "metadata": {},
   "outputs": [],
   "source": [
    "from vedmath import *\n",
    "import math"
   ]
  },
  {
   "cell_type": "code",
   "execution_count": 2,
   "id": "civic-concrete",
   "metadata": {},
   "outputs": [
    {
     "data": {
      "text/plain": [
       "VMonomial([[2], [3], [4]])"
      ]
     },
     "execution_count": 2,
     "metadata": {},
     "output_type": "execute_result"
    }
   ],
   "source": [
    "m = VMonomial([VInteger(2), VInteger(3), VInteger(4)])\n",
    "m"
   ]
  },
  {
   "cell_type": "code",
   "execution_count": 3,
   "id": "central-picking",
   "metadata": {},
   "outputs": [
    {
     "data": {
      "text/plain": [
       "[2, 5]"
      ]
     },
     "execution_count": 3,
     "metadata": {},
     "output_type": "execute_result"
    }
   ],
   "source": [
    "m.duplex()"
   ]
  },
  {
   "cell_type": "code",
   "execution_count": 4,
   "id": "brief-symbol",
   "metadata": {},
   "outputs": [
    {
     "data": {
      "text/plain": [
       "[[4], [1, 2], [2, 5], [2, 4], [1, 6]]"
      ]
     },
     "execution_count": 4,
     "metadata": {},
     "output_type": "execute_result"
    }
   ],
   "source": [
    "m.square()"
   ]
  },
  {
   "cell_type": "code",
   "execution_count": null,
   "id": "latter-pressure",
   "metadata": {},
   "outputs": [],
   "source": []
  }
 ],
 "metadata": {
  "kernelspec": {
   "display_name": "Python 3",
   "language": "python",
   "name": "python3"
  },
  "language_info": {
   "codemirror_mode": {
    "name": "ipython",
    "version": 3
   },
   "file_extension": ".py",
   "mimetype": "text/x-python",
   "name": "python",
   "nbconvert_exporter": "python",
   "pygments_lexer": "ipython3",
   "version": "3.8.5"
  }
 },
 "nbformat": 4,
 "nbformat_minor": 5
}
