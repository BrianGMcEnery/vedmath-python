{
 "cells": [
  {
   "cell_type": "code",
   "execution_count": 1,
   "id": "1640d0b9-21ce-4923-98da-2bafd0bf5ac3",
   "metadata": {},
   "outputs": [],
   "source": [
    "from sympy import *"
   ]
  },
  {
   "cell_type": "code",
   "execution_count": 2,
   "id": "60648ed4-4f18-46cf-ae77-0954dd1af890",
   "metadata": {},
   "outputs": [],
   "source": [
    "x, y, z = symbols('x y z')"
   ]
  },
  {
   "cell_type": "code",
   "execution_count": 3,
   "id": "9a519131-621c-41b8-9c7d-ea156ce09385",
   "metadata": {},
   "outputs": [],
   "source": [
    "k, m, n = symbols('k m n')"
   ]
  },
  {
   "cell_type": "code",
   "execution_count": 4,
   "id": "e0191ea3-4e6d-4505-be4f-92b303782f68",
   "metadata": {},
   "outputs": [],
   "source": [
    "def list_to_frac(l):\n",
    "    expr = Integer(0)\n",
    "    for i in reversed(l[1:]):\n",
    "        expr += i\n",
    "        expr = 1 / expr\n",
    "    return l[0] + expr"
   ]
  },
  {
   "cell_type": "code",
   "execution_count": 5,
   "id": "e0d990e7-1aa1-4537-a5b3-eda5cd9483f3",
   "metadata": {},
   "outputs": [],
   "source": [
    "syms = (a0, a1, a2, a3, a4) = symbols('a0:5')"
   ]
  },
  {
   "cell_type": "code",
   "execution_count": 6,
   "id": "f2700a98-2b58-4b1d-80b7-121c1e95c1c4",
   "metadata": {},
   "outputs": [],
   "source": [
    "import random"
   ]
  },
  {
   "cell_type": "code",
   "execution_count": 7,
   "id": "254bb73a-782d-423e-82f3-fa76e9517445",
   "metadata": {},
   "outputs": [],
   "source": [
    "l = list(syms)"
   ]
  },
  {
   "cell_type": "code",
   "execution_count": 8,
   "id": "092a62dc-cdc9-48ec-8120-3da3d566cc78",
   "metadata": {},
   "outputs": [],
   "source": [
    "random.shuffle(l)"
   ]
  },
  {
   "cell_type": "code",
   "execution_count": 9,
   "id": "8129ddc8-9b4f-4335-bf6c-47201a7c6acf",
   "metadata": {},
   "outputs": [],
   "source": [
    "orig_frac = frac = cancel(list_to_frac(l))"
   ]
  },
  {
   "cell_type": "code",
   "execution_count": 10,
   "id": "6b6f8617-fbba-449c-8a9b-e09cb2c2e447",
   "metadata": {},
   "outputs": [
    {
     "data": {
      "text/latex": [
       "$\\displaystyle \\frac{a_{0} a_{1} a_{2} a_{3} a_{4} + a_{0} a_{1} a_{2} + a_{0} a_{2} a_{3} + a_{0} a_{3} a_{4} + a_{0} + a_{1} a_{3} a_{4} + a_{1} + a_{3}}{a_{0} a_{1} a_{2} a_{4} + a_{0} a_{2} + a_{0} a_{4} + a_{1} a_{4} + 1}$"
      ],
      "text/plain": [
       "(a0*a1*a2*a3*a4 + a0*a1*a2 + a0*a2*a3 + a0*a3*a4 + a0 + a1*a3*a4 + a1 + a3)/(a0*a1*a2*a4 + a0*a2 + a0*a4 + a1*a4 + 1)"
      ]
     },
     "execution_count": 10,
     "metadata": {},
     "output_type": "execute_result"
    }
   ],
   "source": [
    "orig_frac"
   ]
  },
  {
   "cell_type": "code",
   "execution_count": null,
   "id": "a21ea47a-7590-4b30-a992-6d431ae22014",
   "metadata": {},
   "outputs": [],
   "source": []
  }
 ],
 "metadata": {
  "kernelspec": {
   "display_name": "Python 3 (ipykernel)",
   "language": "python",
   "name": "python3"
  },
  "language_info": {
   "codemirror_mode": {
    "name": "ipython",
    "version": 3
   },
   "file_extension": ".py",
   "mimetype": "text/x-python",
   "name": "python",
   "nbconvert_exporter": "python",
   "pygments_lexer": "ipython3",
   "version": "3.8.5"
  }
 },
 "nbformat": 4,
 "nbformat_minor": 5
}
