{
 "cells": [
  {
   "cell_type": "code",
   "execution_count": 1,
   "id": "2ad3afe0-049e-4b0e-8dfb-dd9110b295e6",
   "metadata": {},
   "outputs": [],
   "source": [
    "from sympy import *"
   ]
  },
  {
   "cell_type": "code",
   "execution_count": 2,
   "id": "704af5c9-7a58-4157-a5de-2c41fee20cfc",
   "metadata": {},
   "outputs": [],
   "source": [
    "from sm import Quadratic"
   ]
  },
  {
   "cell_type": "code",
   "execution_count": 3,
   "id": "4ab8f860-c9dd-44a6-81b6-145b0b3f0ac5",
   "metadata": {},
   "outputs": [],
   "source": [
    "init_printing()"
   ]
  },
  {
   "cell_type": "code",
   "execution_count": 4,
   "id": "21d8b722-f4f0-43c9-8720-3b4b29eb05ce",
   "metadata": {},
   "outputs": [],
   "source": [
    "a, b, c = symbols('a b c')"
   ]
  },
  {
   "cell_type": "code",
   "execution_count": 5,
   "id": "df0b2671-b555-4972-b720-3ed718e3f6b5",
   "metadata": {},
   "outputs": [],
   "source": [
    "q = Quadratic(a, b, c)"
   ]
  },
  {
   "cell_type": "code",
   "execution_count": 6,
   "id": "0766b129-9a46-4df0-b9f7-de31917c1a1e",
   "metadata": {},
   "outputs": [
    {
     "name": "stdout",
     "output_type": "stream",
     "text": [
      "Quadratic(a, b, c)\n"
     ]
    }
   ],
   "source": [
    "print(q)"
   ]
  },
  {
   "cell_type": "code",
   "execution_count": 7,
   "id": "e314afb0-f0b2-45b0-bc0e-0f9cdf91645c",
   "metadata": {},
   "outputs": [
    {
     "data": {
      "image/png": "[encoded data removed]",
      "text/latex": [
       "$\\displaystyle \\left( \\frac{- b + \\sqrt{- 4 a c + b^{2}}}{2 a}, \\  \\frac{- b - \\sqrt{- 4 a c + b^{2}}}{2 a}\\right)$"
      ],
      "text/plain": [
       "⎛        _____________          _____________⎞\n",
       "⎜       ╱           2          ╱           2 ⎟\n",
       "⎜-b + ╲╱  -4⋅a⋅c + b    -b - ╲╱  -4⋅a⋅c + b  ⎟\n",
       "⎜─────────────────────, ─────────────────────⎟\n",
       "⎝         2⋅a                    2⋅a         ⎠"
      ]
     },
     "execution_count": 7,
     "metadata": {},
     "output_type": "execute_result"
    }
   ],
   "source": [
    "q.roots()"
   ]
  },
  {
   "cell_type": "code",
   "execution_count": 8,
   "id": "0838e717-d90e-47fb-9a51-b13a36614f7d",
   "metadata": {},
   "outputs": [],
   "source": [
    "qn = Quadratic(3, 4, 5)"
   ]
  },
  {
   "cell_type": "code",
   "execution_count": 9,
   "id": "8a15f37b-1cd6-4dcc-8b6b-7a80cc470fe3",
   "metadata": {},
   "outputs": [
    {
     "data": {
      "image/png": "[encoded data removed]",
      "text/latex": [
       "$\\displaystyle \\left( - \\frac{2}{3} + \\frac{\\sqrt{11} i}{3}, \\  - \\frac{2}{3} - \\frac{\\sqrt{11} i}{3}\\right)$"
      ],
      "text/plain": [
       "⎛  2   √11⋅ⅈ    2   √11⋅ⅈ⎞\n",
       "⎜- ─ + ─────, - ─ - ─────⎟\n",
       "⎝  3     3      3     3  ⎠"
      ]
     },
     "execution_count": 9,
     "metadata": {},
     "output_type": "execute_result"
    }
   ],
   "source": [
    "qn.roots()"
   ]
  },
  {
   "cell_type": "code",
   "execution_count": null,
   "id": "6249d5a4-8cde-4849-be62-46b06c6d4285",
   "metadata": {},
   "outputs": [],
   "source": []
  }
 ],
 "metadata": {
  "kernelspec": {
   "display_name": "Python 3 (ipykernel)",
   "language": "python",
   "name": "python3"
  },
  "language_info": {
   "codemirror_mode": {
    "name": "ipython",
    "version": 3
   },
   "file_extension": ".py",
   "mimetype": "text/x-python",
   "name": "python",
   "nbconvert_exporter": "python",
   "pygments_lexer": "ipython3",
   "version": "3.8.5"
  }
 },
 "nbformat": 4,
 "nbformat_minor": 5
}
