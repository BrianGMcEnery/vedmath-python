{
 "cells": [
  {
   "cell_type": "markdown",
   "id": "9339bfd3-e88a-4291-a920-b6dd68c8c043",
   "metadata": {},
   "source": [
    "# Exploring Euclid's Algorithm"
   ]
  },
  {
   "cell_type": "code",
   "execution_count": 1,
   "id": "f84257ee-b233-485f-88b3-85540b1c2dcc",
   "metadata": {},
   "outputs": [],
   "source": [
    "def hcf1(a, b):\n",
    "    if a == b:\n",
    "        return a\n",
    "    else:\n",
    "        c = a - b\n",
    "        if c < b:\n",
    "            a = b\n",
    "            b = c\n",
    "        else:\n",
    "            a = c\n",
    "            \n",
    "        return hcf1(a, b)"
   ]
  },
  {
   "cell_type": "code",
   "execution_count": 2,
   "id": "3f810be5-9929-4d37-94e8-adeca47b5708",
   "metadata": {},
   "outputs": [
    {
     "data": {
      "text/plain": [
       "1"
      ]
     },
     "execution_count": 2,
     "metadata": {},
     "output_type": "execute_result"
    }
   ],
   "source": [
    "hcf1(103438, 37)"
   ]
  },
  {
   "cell_type": "code",
   "execution_count": 3,
   "id": "0e60ab44-3eef-4e89-90e3-c6ef85772e3c",
   "metadata": {},
   "outputs": [],
   "source": [
    "def hcf(a, b):\n",
    "    r = a % b\n",
    "    if r == 0:\n",
    "        return b\n",
    "    else:\n",
    "        return hcf(b, r)"
   ]
  },
  {
   "cell_type": "code",
   "execution_count": 4,
   "id": "3f11d1c1-afa9-4c54-baaa-159bdc8cb0c8",
   "metadata": {},
   "outputs": [
    {
     "data": {
      "text/plain": [
       "1"
      ]
     },
     "execution_count": 4,
     "metadata": {},
     "output_type": "execute_result"
    }
   ],
   "source": [
    "hcf(103438, 37)"
   ]
  },
  {
   "cell_type": "markdown",
   "id": "90c05c76-69b6-44e1-b47f-1c1382c5b0cb",
   "metadata": {},
   "source": [
    "# Newton-Raphson"
   ]
  },
  {
   "cell_type": "code",
   "execution_count": 5,
   "id": "6f471bca-5c25-48cc-93d8-b4fccdab9698",
   "metadata": {},
   "outputs": [],
   "source": [
    "from sympy import init_session"
   ]
  },
  {
   "cell_type": "code",
   "execution_count": 6,
   "id": "b0a74749-7e67-45dc-8324-d5effd6d29ee",
   "metadata": {},
   "outputs": [
    {
     "name": "stdout",
     "output_type": "stream",
     "text": [
      "IPython console for SymPy 1.10.1 (Python 3.8.5-64-bit) (ground types: gmpy)\n",
      "\n",
      "These commands were executed:\n",
      ">>> from sympy import *\n",
      ">>> x, y, z, t = symbols('x y z t')\n",
      ">>> k, m, n = symbols('k m n', integer=True)\n",
      ">>> f, g, h = symbols('f g h', cls=Function)\n",
      ">>> init_printing()\n",
      "\n",
      "Documentation can be found at https://docs.sympy.org/1.10.1/\n",
      "\n"
     ]
    }
   ],
   "source": [
    "init_session()"
   ]
  },
  {
   "cell_type": "code",
   "execution_count": 7,
   "id": "3af94a56-af82-40f3-808d-f944142afb81",
   "metadata": {},
   "outputs": [],
   "source": [
    "c = symbols('c')"
   ]
  },
  {
   "cell_type": "code",
   "execution_count": 8,
   "id": "f9004c93-4f14-474c-928b-175ffe366636",
   "metadata": {},
   "outputs": [],
   "source": [
    "f = lambda x: x**3 -2"
   ]
  },
  {
   "cell_type": "code",
   "execution_count": 9,
   "id": "37499bd9-5610-49c8-bdc0-9c872f3c5781",
   "metadata": {},
   "outputs": [],
   "source": [
    "df = lambda x: 3*x**2"
   ]
  },
  {
   "cell_type": "code",
   "execution_count": 10,
   "id": "d44a9183-faad-46ae-b74e-5f39a30b70ed",
   "metadata": {},
   "outputs": [],
   "source": [
    "def newton_raphson(an, f, df):\n",
    "    anp1 = an - f(an)/df(an)\n",
    "    if abs(anp1 - an) < 1.0e-10:\n",
    "        return anp1\n",
    "    else:\n",
    "        return newton_raphson(anp1, f, df)"
   ]
  },
  {
   "cell_type": "code",
   "execution_count": 11,
   "id": "d64f0224-384b-41b0-8e75-dc8fe94e342c",
   "metadata": {},
   "outputs": [
    {
     "data": {
      "image/png": "[encoded data removed]",
      "text/latex": [
       "$\\displaystyle 1.25992104989487$"
      ],
      "text/plain": [
       "1.2599210498948732"
      ]
     },
     "execution_count": 11,
     "metadata": {},
     "output_type": "execute_result"
    }
   ],
   "source": [
    "newton_raphson(1, f, df)"
   ]
  },
  {
   "cell_type": "markdown",
   "id": "05eaae07-2895-42dc-9916-1972280cdd3f",
   "metadata": {},
   "source": [
    "# Recursive Functions"
   ]
  },
  {
   "cell_type": "code",
   "execution_count": 12,
   "id": "87434d59-303a-4347-8fc8-d18f6eafc45a",
   "metadata": {},
   "outputs": [],
   "source": [
    "def sum(x, y):\n",
    "    return x + y"
   ]
  },
  {
   "cell_type": "code",
   "execution_count": 13,
   "id": "a86448fd-a68d-4777-bf10-73b3ceb63ec1",
   "metadata": {},
   "outputs": [],
   "source": [
    "def prod(x, y):\n",
    "    if x == 1:\n",
    "        return y\n",
    "    else:\n",
    "        return sum(prod(x - 1, y),y)"
   ]
  },
  {
   "cell_type": "code",
   "execution_count": 14,
   "id": "979615c6-7106-44c2-998d-e184d54d1872",
   "metadata": {},
   "outputs": [
    {
     "data": {
      "image/png": "[encoded data removed]",
      "text/latex": [
       "$\\displaystyle 20$"
      ],
      "text/plain": [
       "20"
      ]
     },
     "execution_count": 14,
     "metadata": {},
     "output_type": "execute_result"
    }
   ],
   "source": [
    "prod(4, 5)"
   ]
  },
  {
   "cell_type": "markdown",
   "id": "6f38cc74-7888-4498-9398-d0e427904894",
   "metadata": {},
   "source": [
    "*Ackerman Function*"
   ]
  },
  {
   "cell_type": "code",
   "execution_count": 15,
   "id": "ae0706d7-f35a-470c-ac43-d66dde1cef07",
   "metadata": {},
   "outputs": [],
   "source": [
    "from functools import wraps"
   ]
  },
  {
   "cell_type": "markdown",
   "id": "3ebce120-26b2-4dee-9c92-64112d3ed935",
   "metadata": {},
   "source": [
    "The folowing is memoization of a two parameter function."
   ]
  },
  {
   "cell_type": "code",
   "execution_count": 16,
   "id": "98eb7908-2ff7-4d26-a046-8538972dfd88",
   "metadata": {},
   "outputs": [],
   "source": [
    "def memoize(f):\n",
    "    memo = {}\n",
    "    @wraps(f)\n",
    "    def helper(x, y):\n",
    "        xy = f'x{x}y{y}'\n",
    "        if xy not in memo: \n",
    "            memo[xy] = f(x, y)\n",
    "        return memo[xy]\n",
    "    return helper"
   ]
  },
  {
   "cell_type": "code",
   "execution_count": 17,
   "id": "b33547a2-2627-4436-85ac-063d86ec7ec0",
   "metadata": {},
   "outputs": [],
   "source": [
    "@memoize\n",
    "def ackerman(x, y):\n",
    "    if x == 1:\n",
    "        return y + 2\n",
    "    elif y == 1:\n",
    "        return 2\n",
    "    else:\n",
    "        return ackerman(x - 1, ackerman(x, y-1))"
   ]
  },
  {
   "cell_type": "code",
   "execution_count": 19,
   "id": "cf1a2d0c-8246-478a-95f2-915c1fa855fa",
   "metadata": {},
   "outputs": [
    {
     "data": {
      "image/png": "[encoded data removed]",
      "text/latex": [
       "$\\displaystyle 16$"
      ],
      "text/plain": [
       "16"
      ]
     },
     "execution_count": 19,
     "metadata": {},
     "output_type": "execute_result"
    }
   ],
   "source": [
    "ackerman(4, 3)"
   ]
  },
  {
   "cell_type": "code",
   "execution_count": null,
   "id": "16f367ed-b5c5-4621-b34a-c8709bb46ae7",
   "metadata": {},
   "outputs": [],
   "source": []
  }
 ],
 "metadata": {
  "kernelspec": {
   "display_name": "Python 3 (ipykernel)",
   "language": "python",
   "name": "python3"
  },
  "language_info": {
   "codemirror_mode": {
    "name": "ipython",
    "version": 3
   },
   "file_extension": ".py",
   "mimetype": "text/x-python",
   "name": "python",
   "nbconvert_exporter": "python",
   "pygments_lexer": "ipython3",
   "version": "3.8.5"
  }
 },
 "nbformat": 4,
 "nbformat_minor": 5
}
