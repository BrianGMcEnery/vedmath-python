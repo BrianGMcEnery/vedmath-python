{
 "cells": [
  {
   "cell_type": "code",
   "execution_count": 1,
   "id": "2ad3afe0-049e-4b0e-8dfb-dd9110b295e6",
   "metadata": {},
   "outputs": [],
   "source": [
    "from sympy import *"
   ]
  },
  {
   "cell_type": "code",
   "execution_count": 2,
   "id": "58d0dd47-7851-4079-a496-e02be834507b",
   "metadata": {},
   "outputs": [],
   "source": [
    "from sm import Cubic"
   ]
  },
  {
   "cell_type": "code",
   "execution_count": 3,
   "id": "21d8b722-f4f0-43c9-8720-3b4b29eb05ce",
   "metadata": {},
   "outputs": [],
   "source": [
    "a, b, c, d, x, t= symbols('a b c d x t')"
   ]
  },
  {
   "cell_type": "code",
   "execution_count": 4,
   "id": "1a412e54-15e5-454b-9444-95bfb698dd25",
   "metadata": {},
   "outputs": [],
   "source": [
    "p, q, u, v = symbols('p q u v')"
   ]
  },
  {
   "cell_type": "code",
   "execution_count": 5,
   "id": "fa3afe87-80fc-459a-b479-9c70ef7cb55d",
   "metadata": {},
   "outputs": [],
   "source": [
    "ce = Cubic(a, b, c, d)"
   ]
  },
  {
   "cell_type": "code",
   "execution_count": 6,
   "id": "f21effd7-cbde-4b92-9260-f3b2fb918108",
   "metadata": {},
   "outputs": [
    {
     "data": {
      "text/latex": [
       "$\\displaystyle a x^{3} + b x^{2} + c x + d$"
      ],
      "text/plain": [
       "a*x**3 + b*x**2 + c*x + d"
      ]
     },
     "execution_count": 6,
     "metadata": {},
     "output_type": "execute_result"
    }
   ],
   "source": [
    "ce.evaluate(x)"
   ]
  },
  {
   "cell_type": "code",
   "execution_count": 7,
   "id": "1df6c929-c99a-4db5-b526-6b8eb1084310",
   "metadata": {},
   "outputs": [
    {
     "data": {
      "text/plain": [
       "(-(b + (-3*a*c + b**2)/(27*a**2*d/2 - 9*a*b*c/2 + b**3 + sqrt(-4*(-3*a*c + b**2)**3 + (27*a**2*d - 9*a*b*c + 2*b**3)**2)/2)**(1/3) + (27*a**2*d/2 - 9*a*b*c/2 + b**3 + sqrt(-4*(-3*a*c + b**2)**3 + (27*a**2*d - 9*a*b*c + 2*b**3)**2)/2)**(1/3))/(3*a),\n",
       " -(b + (-3*a*c + b**2)/((-1/2 + sqrt(3)*I/2)*(27*a**2*d/2 - 9*a*b*c/2 + b**3 + sqrt(-4*(-3*a*c + b**2)**3 + (27*a**2*d - 9*a*b*c + 2*b**3)**2)/2)**(1/3)) + (-1/2 + sqrt(3)*I/2)*(27*a**2*d/2 - 9*a*b*c/2 + b**3 + sqrt(-4*(-3*a*c + b**2)**3 + (27*a**2*d - 9*a*b*c + 2*b**3)**2)/2)**(1/3))/(3*a),\n",
       " -(b + (-3*a*c + b**2)/((-1/2 + sqrt(3)*I/2)**2*(27*a**2*d/2 - 9*a*b*c/2 + b**3 + sqrt(-4*(-3*a*c + b**2)**3 + (27*a**2*d - 9*a*b*c + 2*b**3)**2)/2)**(1/3)) + (-1/2 + sqrt(3)*I/2)**2*(27*a**2*d/2 - 9*a*b*c/2 + b**3 + sqrt(-4*(-3*a*c + b**2)**3 + (27*a**2*d - 9*a*b*c + 2*b**3)**2)/2)**(1/3))/(3*a))"
      ]
     },
     "execution_count": 7,
     "metadata": {},
     "output_type": "execute_result"
    }
   ],
   "source": [
    "ce.roots()"
   ]
  },
  {
   "cell_type": "code",
   "execution_count": 8,
   "id": "a74e1d38-1031-4948-b10c-23def692b019",
   "metadata": {},
   "outputs": [
    {
     "data": {
      "text/latex": [
       "$\\displaystyle x^{3} - 7 x + 6$"
      ],
      "text/plain": [
       "x**3 - 7*x + 6"
      ]
     },
     "execution_count": 8,
     "metadata": {},
     "output_type": "execute_result"
    }
   ],
   "source": [
    "expand((x - 1)*(x - 2)*(x + 3))"
   ]
  },
  {
   "cell_type": "code",
   "execution_count": 9,
   "id": "a5f8c331-f3d8-40ca-8a1e-c46ca7522bf7",
   "metadata": {},
   "outputs": [],
   "source": [
    "cn = Cubic(1, 0 , -7, 6)"
   ]
  },
  {
   "cell_type": "code",
   "execution_count": 10,
   "id": "e9a4b363-eea6-4e88-917b-34cbc9ff7be6",
   "metadata": {},
   "outputs": [],
   "source": [
    "roots = cn.roots()"
   ]
  },
  {
   "cell_type": "code",
   "execution_count": 11,
   "id": "e8847a3b-51ff-4a44-aff5-b34afb731ddd",
   "metadata": {},
   "outputs": [
    {
     "data": {
      "text/plain": [
       "[-3.0 + 1.6e-17*I, 2.0 + 6.41e-17*I, 1.0 - 8.01e-17*I]"
      ]
     },
     "execution_count": 11,
     "metadata": {},
     "output_type": "execute_result"
    }
   ],
   "source": [
    "[r.evalf() for r in roots]"
   ]
  },
  {
   "cell_type": "code",
   "execution_count": 12,
   "id": "782e3d15-d43b-45ec-bdd8-e24151fba4fa",
   "metadata": {},
   "outputs": [
    {
     "data": {
      "text/latex": [
       "$\\displaystyle -3.0 + 1.6 \\cdot 10^{-17} i$"
      ],
      "text/plain": [
       "-3.0 + 1.6e-17*I"
      ]
     },
     "execution_count": 12,
     "metadata": {},
     "output_type": "execute_result"
    }
   ],
   "source": [
    "_[0]"
   ]
  },
  {
   "cell_type": "code",
   "execution_count": null,
   "id": "b8ff6d0b-3920-4c66-8bbc-1dd2b5ad3a32",
   "metadata": {},
   "outputs": [],
   "source": []
  }
 ],
 "metadata": {
  "kernelspec": {
   "display_name": "Python 3 (ipykernel)",
   "language": "python",
   "name": "python3"
  },
  "language_info": {
   "codemirror_mode": {
    "name": "ipython",
    "version": 3
   },
   "file_extension": ".py",
   "mimetype": "text/x-python",
   "name": "python",
   "nbconvert_exporter": "python",
   "pygments_lexer": "ipython3",
   "version": "3.8.5"
  }
 },
 "nbformat": 4,
 "nbformat_minor": 5
}
