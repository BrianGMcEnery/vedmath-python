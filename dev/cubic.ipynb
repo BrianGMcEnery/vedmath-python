{
 "cells": [
  {
   "cell_type": "code",
   "execution_count": 1,
   "id": "2ad3afe0-049e-4b0e-8dfb-dd9110b295e6",
   "metadata": {},
   "outputs": [],
   "source": [
    "from sympy import *"
   ]
  },
  {
   "cell_type": "code",
   "execution_count": 2,
   "id": "58d0dd47-7851-4079-a496-e02be834507b",
   "metadata": {},
   "outputs": [],
   "source": [
    "from sm import Cubic"
   ]
  },
  {
   "cell_type": "code",
   "execution_count": 3,
   "id": "4ab8f860-c9dd-44a6-81b6-145b0b3f0ac5",
   "metadata": {},
   "outputs": [],
   "source": [
    "init_printing()"
   ]
  },
  {
   "cell_type": "code",
   "execution_count": 4,
   "id": "21d8b722-f4f0-43c9-8720-3b4b29eb05ce",
   "metadata": {},
   "outputs": [],
   "source": [
    "a, b, c, d, x, t= symbols('a b c d x t')"
   ]
  },
  {
   "cell_type": "code",
   "execution_count": 5,
   "id": "1a412e54-15e5-454b-9444-95bfb698dd25",
   "metadata": {},
   "outputs": [],
   "source": [
    "p, q, u, v = symbols('p q u v')"
   ]
  }
 ],
 "metadata": {
  "kernelspec": {
   "display_name": "Python 3 (ipykernel)",
   "language": "python",
   "name": "python3"
  },
  "language_info": {
   "codemirror_mode": {
    "name": "ipython",
    "version": 3
   },
   "file_extension": ".py",
   "mimetype": "text/x-python",
   "name": "python",
   "nbconvert_exporter": "python",
   "pygments_lexer": "ipython3",
   "version": "3.8.5"
  }
 },
 "nbformat": 4,
 "nbformat_minor": 5
}
